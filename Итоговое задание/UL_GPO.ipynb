{
  "nbformat": 4,
  "nbformat_minor": 0,
  "metadata": {
    "colab": {
      "provenance": [],
      "mount_file_id": "10GFvax7ZHAtaceYYXe2lG77cNKnanWSm",
      "authorship_tag": "ABX9TyMmZamUlvvkDp02u0UBf8nl"
    },
    "kernelspec": {
      "name": "python3",
      "display_name": "Python 3"
    },
    "language_info": {
      "name": "python"
    }
  },
  "cells": [
    {
      "cell_type": "code",
      "metadata": {
        "id": "mcUebpigy1Ml"
      },
      "source": [
        "import numpy as np\n",
        "import pandas as pd"
      ],
      "execution_count": null,
      "outputs": []
    },
    {
      "cell_type": "code",
      "metadata": {
        "id": "wBIG83brzSZn",
        "colab": {
          "base_uri": "https://localhost:8080/",
          "height": 236
        },
        "outputId": "6918d3d3-c172-4bde-d70f-8ce9a696dac9"
      },
      "source": [
        "dataset = pd.read_excel('/content/drive/MyDrive/По гпо/Dataset_UL.xlsx')\n",
        "dataset.head()"
      ],
      "execution_count": null,
      "outputs": [
        {
          "output_type": "execute_result",
          "data": {
            "text/plain": [
              "   СФ1  СФ2  СФ3  СФ4  СФ5  СФ8  СФ9  П2  П7  П8  ...  ФП1.1  ФП1.2  ФП2.1  \\\n",
              "0    1    0    1    1    0    1    1   2   0   1  ...      1      1      1   \n",
              "1    1    0    0    0    1    0    0   0   0   1  ...      1      1      1   \n",
              "2    1    1    1    1    1    0    1   0   0   1  ...      1      1      1   \n",
              "3    1    1    1    1    1    0    1   0   0   1  ...      1      1      1   \n",
              "4    1    0    1    0    1    0    1   0   0   1  ...      1      1      1   \n",
              "\n",
              "   ФП2.2  ФП2.3  ФП3.1  ФП4.1  ФП4.2  ФП4.3  Класс  \n",
              "0      1      1      1      1      1      1      0  \n",
              "1      1      1      1      1      1      1      0  \n",
              "2      1      1      1      1      1      1      0  \n",
              "3      1      1      1      1      1      1      0  \n",
              "4      1      1      1      1      1      1      0  \n",
              "\n",
              "[5 rows x 28 columns]"
            ],
            "text/html": [
              "\n",
              "  <div id=\"df-94d74c6e-eed9-4c4f-87e3-2937f1a1f21b\">\n",
              "    <div class=\"colab-df-container\">\n",
              "      <div>\n",
              "<style scoped>\n",
              "    .dataframe tbody tr th:only-of-type {\n",
              "        vertical-align: middle;\n",
              "    }\n",
              "\n",
              "    .dataframe tbody tr th {\n",
              "        vertical-align: top;\n",
              "    }\n",
              "\n",
              "    .dataframe thead th {\n",
              "        text-align: right;\n",
              "    }\n",
              "</style>\n",
              "<table border=\"1\" class=\"dataframe\">\n",
              "  <thead>\n",
              "    <tr style=\"text-align: right;\">\n",
              "      <th></th>\n",
              "      <th>СФ1</th>\n",
              "      <th>СФ2</th>\n",
              "      <th>СФ3</th>\n",
              "      <th>СФ4</th>\n",
              "      <th>СФ5</th>\n",
              "      <th>СФ8</th>\n",
              "      <th>СФ9</th>\n",
              "      <th>П2</th>\n",
              "      <th>П7</th>\n",
              "      <th>П8</th>\n",
              "      <th>...</th>\n",
              "      <th>ФП1.1</th>\n",
              "      <th>ФП1.2</th>\n",
              "      <th>ФП2.1</th>\n",
              "      <th>ФП2.2</th>\n",
              "      <th>ФП2.3</th>\n",
              "      <th>ФП3.1</th>\n",
              "      <th>ФП4.1</th>\n",
              "      <th>ФП4.2</th>\n",
              "      <th>ФП4.3</th>\n",
              "      <th>Класс</th>\n",
              "    </tr>\n",
              "  </thead>\n",
              "  <tbody>\n",
              "    <tr>\n",
              "      <th>0</th>\n",
              "      <td>1</td>\n",
              "      <td>0</td>\n",
              "      <td>1</td>\n",
              "      <td>1</td>\n",
              "      <td>0</td>\n",
              "      <td>1</td>\n",
              "      <td>1</td>\n",
              "      <td>2</td>\n",
              "      <td>0</td>\n",
              "      <td>1</td>\n",
              "      <td>...</td>\n",
              "      <td>1</td>\n",
              "      <td>1</td>\n",
              "      <td>1</td>\n",
              "      <td>1</td>\n",
              "      <td>1</td>\n",
              "      <td>1</td>\n",
              "      <td>1</td>\n",
              "      <td>1</td>\n",
              "      <td>1</td>\n",
              "      <td>0</td>\n",
              "    </tr>\n",
              "    <tr>\n",
              "      <th>1</th>\n",
              "      <td>1</td>\n",
              "      <td>0</td>\n",
              "      <td>0</td>\n",
              "      <td>0</td>\n",
              "      <td>1</td>\n",
              "      <td>0</td>\n",
              "      <td>0</td>\n",
              "      <td>0</td>\n",
              "      <td>0</td>\n",
              "      <td>1</td>\n",
              "      <td>...</td>\n",
              "      <td>1</td>\n",
              "      <td>1</td>\n",
              "      <td>1</td>\n",
              "      <td>1</td>\n",
              "      <td>1</td>\n",
              "      <td>1</td>\n",
              "      <td>1</td>\n",
              "      <td>1</td>\n",
              "      <td>1</td>\n",
              "      <td>0</td>\n",
              "    </tr>\n",
              "    <tr>\n",
              "      <th>2</th>\n",
              "      <td>1</td>\n",
              "      <td>1</td>\n",
              "      <td>1</td>\n",
              "      <td>1</td>\n",
              "      <td>1</td>\n",
              "      <td>0</td>\n",
              "      <td>1</td>\n",
              "      <td>0</td>\n",
              "      <td>0</td>\n",
              "      <td>1</td>\n",
              "      <td>...</td>\n",
              "      <td>1</td>\n",
              "      <td>1</td>\n",
              "      <td>1</td>\n",
              "      <td>1</td>\n",
              "      <td>1</td>\n",
              "      <td>1</td>\n",
              "      <td>1</td>\n",
              "      <td>1</td>\n",
              "      <td>1</td>\n",
              "      <td>0</td>\n",
              "    </tr>\n",
              "    <tr>\n",
              "      <th>3</th>\n",
              "      <td>1</td>\n",
              "      <td>1</td>\n",
              "      <td>1</td>\n",
              "      <td>1</td>\n",
              "      <td>1</td>\n",
              "      <td>0</td>\n",
              "      <td>1</td>\n",
              "      <td>0</td>\n",
              "      <td>0</td>\n",
              "      <td>1</td>\n",
              "      <td>...</td>\n",
              "      <td>1</td>\n",
              "      <td>1</td>\n",
              "      <td>1</td>\n",
              "      <td>1</td>\n",
              "      <td>1</td>\n",
              "      <td>1</td>\n",
              "      <td>1</td>\n",
              "      <td>1</td>\n",
              "      <td>1</td>\n",
              "      <td>0</td>\n",
              "    </tr>\n",
              "    <tr>\n",
              "      <th>4</th>\n",
              "      <td>1</td>\n",
              "      <td>0</td>\n",
              "      <td>1</td>\n",
              "      <td>0</td>\n",
              "      <td>1</td>\n",
              "      <td>0</td>\n",
              "      <td>1</td>\n",
              "      <td>0</td>\n",
              "      <td>0</td>\n",
              "      <td>1</td>\n",
              "      <td>...</td>\n",
              "      <td>1</td>\n",
              "      <td>1</td>\n",
              "      <td>1</td>\n",
              "      <td>1</td>\n",
              "      <td>1</td>\n",
              "      <td>1</td>\n",
              "      <td>1</td>\n",
              "      <td>1</td>\n",
              "      <td>1</td>\n",
              "      <td>0</td>\n",
              "    </tr>\n",
              "  </tbody>\n",
              "</table>\n",
              "<p>5 rows × 28 columns</p>\n",
              "</div>\n",
              "      <button class=\"colab-df-convert\" onclick=\"convertToInteractive('df-94d74c6e-eed9-4c4f-87e3-2937f1a1f21b')\"\n",
              "              title=\"Convert this dataframe to an interactive table.\"\n",
              "              style=\"display:none;\">\n",
              "        \n",
              "  <svg xmlns=\"http://www.w3.org/2000/svg\" height=\"24px\"viewBox=\"0 0 24 24\"\n",
              "       width=\"24px\">\n",
              "    <path d=\"M0 0h24v24H0V0z\" fill=\"none\"/>\n",
              "    <path d=\"M18.56 5.44l.94 2.06.94-2.06 2.06-.94-2.06-.94-.94-2.06-.94 2.06-2.06.94zm-11 1L8.5 8.5l.94-2.06 2.06-.94-2.06-.94L8.5 2.5l-.94 2.06-2.06.94zm10 10l.94 2.06.94-2.06 2.06-.94-2.06-.94-.94-2.06-.94 2.06-2.06.94z\"/><path d=\"M17.41 7.96l-1.37-1.37c-.4-.4-.92-.59-1.43-.59-.52 0-1.04.2-1.43.59L10.3 9.45l-7.72 7.72c-.78.78-.78 2.05 0 2.83L4 21.41c.39.39.9.59 1.41.59.51 0 1.02-.2 1.41-.59l7.78-7.78 2.81-2.81c.8-.78.8-2.07 0-2.86zM5.41 20L4 18.59l7.72-7.72 1.47 1.35L5.41 20z\"/>\n",
              "  </svg>\n",
              "      </button>\n",
              "      \n",
              "  <style>\n",
              "    .colab-df-container {\n",
              "      display:flex;\n",
              "      flex-wrap:wrap;\n",
              "      gap: 12px;\n",
              "    }\n",
              "\n",
              "    .colab-df-convert {\n",
              "      background-color: #E8F0FE;\n",
              "      border: none;\n",
              "      border-radius: 50%;\n",
              "      cursor: pointer;\n",
              "      display: none;\n",
              "      fill: #1967D2;\n",
              "      height: 32px;\n",
              "      padding: 0 0 0 0;\n",
              "      width: 32px;\n",
              "    }\n",
              "\n",
              "    .colab-df-convert:hover {\n",
              "      background-color: #E2EBFA;\n",
              "      box-shadow: 0px 1px 2px rgba(60, 64, 67, 0.3), 0px 1px 3px 1px rgba(60, 64, 67, 0.15);\n",
              "      fill: #174EA6;\n",
              "    }\n",
              "\n",
              "    [theme=dark] .colab-df-convert {\n",
              "      background-color: #3B4455;\n",
              "      fill: #D2E3FC;\n",
              "    }\n",
              "\n",
              "    [theme=dark] .colab-df-convert:hover {\n",
              "      background-color: #434B5C;\n",
              "      box-shadow: 0px 1px 3px 1px rgba(0, 0, 0, 0.15);\n",
              "      filter: drop-shadow(0px 1px 2px rgba(0, 0, 0, 0.3));\n",
              "      fill: #FFFFFF;\n",
              "    }\n",
              "  </style>\n",
              "\n",
              "      <script>\n",
              "        const buttonEl =\n",
              "          document.querySelector('#df-94d74c6e-eed9-4c4f-87e3-2937f1a1f21b button.colab-df-convert');\n",
              "        buttonEl.style.display =\n",
              "          google.colab.kernel.accessAllowed ? 'block' : 'none';\n",
              "\n",
              "        async function convertToInteractive(key) {\n",
              "          const element = document.querySelector('#df-94d74c6e-eed9-4c4f-87e3-2937f1a1f21b');\n",
              "          const dataTable =\n",
              "            await google.colab.kernel.invokeFunction('convertToInteractive',\n",
              "                                                     [key], {});\n",
              "          if (!dataTable) return;\n",
              "\n",
              "          const docLinkHtml = 'Like what you see? Visit the ' +\n",
              "            '<a target=\"_blank\" href=https://colab.research.google.com/notebooks/data_table.ipynb>data table notebook</a>'\n",
              "            + ' to learn more about interactive tables.';\n",
              "          element.innerHTML = '';\n",
              "          dataTable['output_type'] = 'display_data';\n",
              "          await google.colab.output.renderOutput(dataTable, element);\n",
              "          const docLink = document.createElement('div');\n",
              "          docLink.innerHTML = docLinkHtml;\n",
              "          element.appendChild(docLink);\n",
              "        }\n",
              "      </script>\n",
              "    </div>\n",
              "  </div>\n",
              "  "
            ]
          },
          "metadata": {},
          "execution_count": 2
        }
      ]
    },
    {
      "cell_type": "code",
      "metadata": {
        "id": "TG1RyyvL5_cl"
      },
      "source": [
        "X = dataset.drop('Класс', axis=1)\n",
        "Y = dataset['Класс']"
      ],
      "execution_count": null,
      "outputs": []
    },
    {
      "cell_type": "code",
      "source": [
        "from sklearn.model_selection import cross_val_predict\n",
        "from sklearn.metrics import accuracy_score, confusion_matrix, classification_report\n",
        "\n",
        "from sklearn.neighbors import KNeighborsClassifier\n",
        "from sklearn.svm import SVC\n",
        "from sklearn.naive_bayes import BernoulliNB\n",
        "from sklearn.tree import DecisionTreeClassifier\n",
        "from sklearn.ensemble import RandomForestClassifier"
      ],
      "metadata": {
        "id": "d188-URNLr-Y"
      },
      "execution_count": null,
      "outputs": []
    },
    {
      "cell_type": "code",
      "source": [
        "clf = KNeighborsClassifier(n_neighbors=9, weights='distance', p=1)\n",
        "y_pred = cross_val_predict(clf, X, Y, cv=5)\n",
        "print(confusion_matrix(Y, y_pred))\n",
        "print(classification_report(Y, y_pred))"
      ],
      "metadata": {
        "colab": {
          "base_uri": "https://localhost:8080/"
        },
        "id": "BdF3H_jHKZu3",
        "outputId": "ce4fc780-3338-45f5-af9c-e067ad6ae1b6"
      },
      "execution_count": null,
      "outputs": [
        {
          "output_type": "stream",
          "name": "stdout",
          "text": [
            "[[30  0]\n",
            " [ 0  6]]\n",
            "              precision    recall  f1-score   support\n",
            "\n",
            "           0       1.00      1.00      1.00        30\n",
            "           1       1.00      1.00      1.00         6\n",
            "\n",
            "    accuracy                           1.00        36\n",
            "   macro avg       1.00      1.00      1.00        36\n",
            "weighted avg       1.00      1.00      1.00        36\n",
            "\n"
          ]
        }
      ]
    },
    {
      "cell_type": "code",
      "source": [
        "clf = SVC(C=8, kernel='rbf', gamma='auto', degree=1)\n",
        "y_pred = cross_val_predict(clf, X, Y, cv=5)\n",
        "print(confusion_matrix(Y, y_pred))\n",
        "print(classification_report(Y, y_pred))"
      ],
      "metadata": {
        "colab": {
          "base_uri": "https://localhost:8080/"
        },
        "id": "eIbBNlplNUNy",
        "outputId": "47a07750-0863-48f3-8fd7-9952945dab40"
      },
      "execution_count": null,
      "outputs": [
        {
          "output_type": "stream",
          "name": "stdout",
          "text": [
            "[[30  0]\n",
            " [ 0  6]]\n",
            "              precision    recall  f1-score   support\n",
            "\n",
            "           0       1.00      1.00      1.00        30\n",
            "           1       1.00      1.00      1.00         6\n",
            "\n",
            "    accuracy                           1.00        36\n",
            "   macro avg       1.00      1.00      1.00        36\n",
            "weighted avg       1.00      1.00      1.00        36\n",
            "\n"
          ]
        }
      ]
    },
    {
      "cell_type": "code",
      "source": [
        "clf = BernoulliNB(alpha=0.01, fit_prior=True)\n",
        "y_pred = cross_val_predict(clf, X, Y, cv=5)\n",
        "print(confusion_matrix(Y, y_pred))\n",
        "print(classification_report(Y, y_pred))"
      ],
      "metadata": {
        "colab": {
          "base_uri": "https://localhost:8080/"
        },
        "id": "v5iE-7G5NUrm",
        "outputId": "49917b31-95c1-46d0-e71a-760636369693"
      },
      "execution_count": null,
      "outputs": [
        {
          "output_type": "stream",
          "name": "stdout",
          "text": [
            "[[30  0]\n",
            " [ 1  5]]\n",
            "              precision    recall  f1-score   support\n",
            "\n",
            "           0       0.97      1.00      0.98        30\n",
            "           1       1.00      0.83      0.91         6\n",
            "\n",
            "    accuracy                           0.97        36\n",
            "   macro avg       0.98      0.92      0.95        36\n",
            "weighted avg       0.97      0.97      0.97        36\n",
            "\n"
          ]
        }
      ]
    },
    {
      "cell_type": "code",
      "source": [
        "clf = DecisionTreeClassifier(max_depth=8, min_samples_split=4,\n",
        "                             min_samples_leaf=1, max_features=None, splitter='random')\n",
        "y_pred = cross_val_predict(clf, X, Y, cv=5)\n",
        "print(confusion_matrix(Y, y_pred))\n",
        "print(classification_report(Y, y_pred))"
      ],
      "metadata": {
        "colab": {
          "base_uri": "https://localhost:8080/"
        },
        "id": "eUKNSW3bNVE-",
        "outputId": "e703f1b1-e42c-4bcc-be9a-5efb9bcc1c07"
      },
      "execution_count": null,
      "outputs": [
        {
          "output_type": "stream",
          "name": "stdout",
          "text": [
            "[[28  2]\n",
            " [ 0  6]]\n",
            "              precision    recall  f1-score   support\n",
            "\n",
            "           0       1.00      0.93      0.97        30\n",
            "           1       0.75      1.00      0.86         6\n",
            "\n",
            "    accuracy                           0.94        36\n",
            "   macro avg       0.88      0.97      0.91        36\n",
            "weighted avg       0.96      0.94      0.95        36\n",
            "\n"
          ]
        }
      ]
    },
    {
      "cell_type": "code",
      "source": [
        "clf = RandomForestClassifier(n_estimators=5, max_depth=6, min_samples_split=2, min_samples_leaf=1, max_features='sqrt', bootstrap=False)\n",
        "y_pred = cross_val_predict(clf, X, Y, cv=5)\n",
        "print(confusion_matrix(Y, y_pred))\n",
        "print(classification_report(Y, y_pred))"
      ],
      "metadata": {
        "colab": {
          "base_uri": "https://localhost:8080/"
        },
        "id": "Ita5KH09NZDg",
        "outputId": "e106df54-fa98-4a39-a3db-94401a707336"
      },
      "execution_count": null,
      "outputs": [
        {
          "output_type": "stream",
          "name": "stdout",
          "text": [
            "[[28  2]\n",
            " [ 0  6]]\n",
            "              precision    recall  f1-score   support\n",
            "\n",
            "           0       1.00      0.93      0.97        30\n",
            "           1       0.75      1.00      0.86         6\n",
            "\n",
            "    accuracy                           0.94        36\n",
            "   macro avg       0.88      0.97      0.91        36\n",
            "weighted avg       0.96      0.94      0.95        36\n",
            "\n"
          ]
        }
      ]
    },
    {
      "cell_type": "code",
      "source": [
        "from sklearn.model_selection import GridSearchCV\n",
        "param_grid = {'max_depth': range(3, 11),\n",
        "              'min_samples_split': range(2, 6),\n",
        "              'min_samples_leaf': range(1, 5),\n",
        "              'max_features': [None, 'auto', 'sqrt', 'log2'],\n",
        "              'criterion': ['gini', 'entropy'],\n",
        "              'splitter': ['best', 'random']}\n",
        "\n",
        "clf = DecisionTreeClassifier()\n",
        "grid_search = GridSearchCV(clf, param_grid=param_grid, cv=5)\n",
        "grid_search.fit(X, Y)\n",
        "print(\"Наилучшие параметры: \", grid_search.best_params_)\n",
        "print(\"Наилучшая точность: \", grid_search.best_score_)\n",
        "pd.DataFrame(grid_search.cv_results_).to_excel(\"Tree3 - Grid.xlsx\", index=False)"
      ],
      "metadata": {
        "id": "dV5SCiAJb9e4"
      },
      "execution_count": null,
      "outputs": []
    },
    {
      "cell_type": "code",
      "source": [
        "from sklearn.model_selection import GridSearchCV\n",
        "param_grid = {'alpha': [0.001, 0.002, 0.005, 0.01],\n",
        "              'binarize': [0, 0.3, 0.5, 1, 2, 3, 4, 5],\n",
        "              'fit_prior': [False, True]}\n",
        "\n",
        "clf = BernoulliNB()\n",
        "grid_search = GridSearchCV(clf, param_grid=param_grid, cv=5)\n",
        "grid_search.fit(X, Y)\n",
        "print(\"Наилучшие параметры: \", grid_search.best_params_)\n",
        "print(\"Наилучшая точность: \", grid_search.best_score_)\n",
        "pd.DataFrame(grid_search.cv_results_).to_excel(\"Tree3 - Grid.xlsx\", index=False)"
      ],
      "metadata": {
        "colab": {
          "base_uri": "https://localhost:8080/"
        },
        "id": "3dCBz0G1dOEI",
        "outputId": "7d62fdf0-2b58-4721-ea35-5b5f0bf5c36f"
      },
      "execution_count": null,
      "outputs": [
        {
          "output_type": "stream",
          "name": "stdout",
          "text": [
            "Наилучшие параметры:  {'alpha': 0.001, 'binarize': 0, 'fit_prior': False}\n",
            "Наилучшая точность:  0.9714285714285715\n"
          ]
        }
      ]
    }
  ]
}