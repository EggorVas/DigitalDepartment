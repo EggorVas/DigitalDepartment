{
  "nbformat": 4,
  "nbformat_minor": 0,
  "metadata": {
    "colab": {
      "provenance": []
    },
    "kernelspec": {
      "name": "python3",
      "display_name": "Python 3"
    },
    "language_info": {
      "name": "python"
    }
  },
  "cells": [
    {
      "cell_type": "markdown",
      "source": [
        "Подключение библиотек"
      ],
      "metadata": {
        "id": "QOY4I_E9wZHk"
      }
    },
    {
      "cell_type": "code",
      "execution_count": 1,
      "metadata": {
        "id": "XU7hG20sUR9w"
      },
      "outputs": [],
      "source": [
        "import pandas as pd\n",
        "import numpy as np\n",
        "import sklearn\n",
        "import matplotlib.pyplot as plt\n",
        "import seaborn as sns\n",
        "%matplotlib inline\n",
        "import warnings\n",
        "warnings.simplefilter(action='ignore', category=FutureWarning)"
      ]
    },
    {
      "cell_type": "markdown",
      "source": [
        "Для практики был выбран несбалансированный датасет Ecoli (определение кишечной палочки) с семью столбцами вещественного типа и без пропущенных значений.\n",
        "Записи внутри файла dat были частично изменены, чтобы легче привести в DataFrame правильный \"Заголовок\"."
      ],
      "metadata": {
        "id": "XicZ_73i7dWK"
      }
    },
    {
      "cell_type": "code",
      "source": [
        "data = pd.read_csv('ecoli1.dat', \n",
        "                 sep=\",\\s+\",\n",
        "                 index_col=None,\n",
        "                 header=9)\n",
        "data.info()"
      ],
      "metadata": {
        "id": "gXLD6_ZDg41r",
        "colab": {
          "base_uri": "https://localhost:8080/"
        },
        "outputId": "ba89c580-97c0-4ddf-cd5a-23703361d935"
      },
      "execution_count": 23,
      "outputs": [
        {
          "output_type": "stream",
          "name": "stdout",
          "text": [
            "<class 'pandas.core.frame.DataFrame'>\n",
            "RangeIndex: 336 entries, 0 to 335\n",
            "Data columns (total 8 columns):\n",
            " #   Column  Non-Null Count  Dtype  \n",
            "---  ------  --------------  -----  \n",
            " 0   Mcg     336 non-null    float64\n",
            " 1   Gvh     336 non-null    float64\n",
            " 2   Lip     336 non-null    float64\n",
            " 3   Chg     336 non-null    float64\n",
            " 4   Aac     336 non-null    float64\n",
            " 5   Alm1    336 non-null    float64\n",
            " 6   Alm2    336 non-null    float64\n",
            " 7   Class   336 non-null    object \n",
            "dtypes: float64(7), object(1)\n",
            "memory usage: 21.1+ KB\n"
          ]
        },
        {
          "output_type": "stream",
          "name": "stderr",
          "text": [
            "<ipython-input-23-b325c9228b04>:1: ParserWarning: Falling back to the 'python' engine because the 'c' engine does not support regex separators (separators > 1 char and different from '\\s+' are interpreted as regex); you can avoid this warning by specifying engine='python'.\n",
            "  data = pd.read_csv('ecoli1.dat',\n"
          ]
        }
      ]
    },
    {
      "cell_type": "code",
      "source": [
        "data"
      ],
      "metadata": {
        "colab": {
          "base_uri": "https://localhost:8080/",
          "height": 424
        },
        "id": "R4DfzU-SJRtk",
        "outputId": "a9dfaeef-deda-48fa-9574-f3981653b928"
      },
      "execution_count": 24,
      "outputs": [
        {
          "output_type": "execute_result",
          "data": {
            "text/plain": [
              "      Mcg   Gvh   Lip  Chg   Aac  Alm1  Alm2     Class\n",
              "0    0.49  0.29  0.48  0.5  0.56  0.24  0.35  negative\n",
              "1    0.07  0.40  0.48  0.5  0.54  0.35  0.44  negative\n",
              "2    0.56  0.40  0.48  0.5  0.49  0.37  0.46  negative\n",
              "3    0.59  0.49  0.48  0.5  0.52  0.45  0.36  negative\n",
              "4    0.23  0.32  0.48  0.5  0.55  0.25  0.35  negative\n",
              "..    ...   ...   ...  ...   ...   ...   ...       ...\n",
              "331  0.74  0.56  0.48  0.5  0.47  0.68  0.30  negative\n",
              "332  0.71  0.57  0.48  0.5  0.48  0.35  0.32  negative\n",
              "333  0.61  0.60  0.48  0.5  0.44  0.39  0.38  negative\n",
              "334  0.59  0.61  0.48  0.5  0.42  0.42  0.37  negative\n",
              "335  0.74  0.74  0.48  0.5  0.31  0.53  0.52  negative\n",
              "\n",
              "[336 rows x 8 columns]"
            ],
            "text/html": [
              "\n",
              "  <div id=\"df-e626d3c9-50a5-4629-8e50-2b6b02251054\">\n",
              "    <div class=\"colab-df-container\">\n",
              "      <div>\n",
              "<style scoped>\n",
              "    .dataframe tbody tr th:only-of-type {\n",
              "        vertical-align: middle;\n",
              "    }\n",
              "\n",
              "    .dataframe tbody tr th {\n",
              "        vertical-align: top;\n",
              "    }\n",
              "\n",
              "    .dataframe thead th {\n",
              "        text-align: right;\n",
              "    }\n",
              "</style>\n",
              "<table border=\"1\" class=\"dataframe\">\n",
              "  <thead>\n",
              "    <tr style=\"text-align: right;\">\n",
              "      <th></th>\n",
              "      <th>Mcg</th>\n",
              "      <th>Gvh</th>\n",
              "      <th>Lip</th>\n",
              "      <th>Chg</th>\n",
              "      <th>Aac</th>\n",
              "      <th>Alm1</th>\n",
              "      <th>Alm2</th>\n",
              "      <th>Class</th>\n",
              "    </tr>\n",
              "  </thead>\n",
              "  <tbody>\n",
              "    <tr>\n",
              "      <th>0</th>\n",
              "      <td>0.49</td>\n",
              "      <td>0.29</td>\n",
              "      <td>0.48</td>\n",
              "      <td>0.5</td>\n",
              "      <td>0.56</td>\n",
              "      <td>0.24</td>\n",
              "      <td>0.35</td>\n",
              "      <td>negative</td>\n",
              "    </tr>\n",
              "    <tr>\n",
              "      <th>1</th>\n",
              "      <td>0.07</td>\n",
              "      <td>0.40</td>\n",
              "      <td>0.48</td>\n",
              "      <td>0.5</td>\n",
              "      <td>0.54</td>\n",
              "      <td>0.35</td>\n",
              "      <td>0.44</td>\n",
              "      <td>negative</td>\n",
              "    </tr>\n",
              "    <tr>\n",
              "      <th>2</th>\n",
              "      <td>0.56</td>\n",
              "      <td>0.40</td>\n",
              "      <td>0.48</td>\n",
              "      <td>0.5</td>\n",
              "      <td>0.49</td>\n",
              "      <td>0.37</td>\n",
              "      <td>0.46</td>\n",
              "      <td>negative</td>\n",
              "    </tr>\n",
              "    <tr>\n",
              "      <th>3</th>\n",
              "      <td>0.59</td>\n",
              "      <td>0.49</td>\n",
              "      <td>0.48</td>\n",
              "      <td>0.5</td>\n",
              "      <td>0.52</td>\n",
              "      <td>0.45</td>\n",
              "      <td>0.36</td>\n",
              "      <td>negative</td>\n",
              "    </tr>\n",
              "    <tr>\n",
              "      <th>4</th>\n",
              "      <td>0.23</td>\n",
              "      <td>0.32</td>\n",
              "      <td>0.48</td>\n",
              "      <td>0.5</td>\n",
              "      <td>0.55</td>\n",
              "      <td>0.25</td>\n",
              "      <td>0.35</td>\n",
              "      <td>negative</td>\n",
              "    </tr>\n",
              "    <tr>\n",
              "      <th>...</th>\n",
              "      <td>...</td>\n",
              "      <td>...</td>\n",
              "      <td>...</td>\n",
              "      <td>...</td>\n",
              "      <td>...</td>\n",
              "      <td>...</td>\n",
              "      <td>...</td>\n",
              "      <td>...</td>\n",
              "    </tr>\n",
              "    <tr>\n",
              "      <th>331</th>\n",
              "      <td>0.74</td>\n",
              "      <td>0.56</td>\n",
              "      <td>0.48</td>\n",
              "      <td>0.5</td>\n",
              "      <td>0.47</td>\n",
              "      <td>0.68</td>\n",
              "      <td>0.30</td>\n",
              "      <td>negative</td>\n",
              "    </tr>\n",
              "    <tr>\n",
              "      <th>332</th>\n",
              "      <td>0.71</td>\n",
              "      <td>0.57</td>\n",
              "      <td>0.48</td>\n",
              "      <td>0.5</td>\n",
              "      <td>0.48</td>\n",
              "      <td>0.35</td>\n",
              "      <td>0.32</td>\n",
              "      <td>negative</td>\n",
              "    </tr>\n",
              "    <tr>\n",
              "      <th>333</th>\n",
              "      <td>0.61</td>\n",
              "      <td>0.60</td>\n",
              "      <td>0.48</td>\n",
              "      <td>0.5</td>\n",
              "      <td>0.44</td>\n",
              "      <td>0.39</td>\n",
              "      <td>0.38</td>\n",
              "      <td>negative</td>\n",
              "    </tr>\n",
              "    <tr>\n",
              "      <th>334</th>\n",
              "      <td>0.59</td>\n",
              "      <td>0.61</td>\n",
              "      <td>0.48</td>\n",
              "      <td>0.5</td>\n",
              "      <td>0.42</td>\n",
              "      <td>0.42</td>\n",
              "      <td>0.37</td>\n",
              "      <td>negative</td>\n",
              "    </tr>\n",
              "    <tr>\n",
              "      <th>335</th>\n",
              "      <td>0.74</td>\n",
              "      <td>0.74</td>\n",
              "      <td>0.48</td>\n",
              "      <td>0.5</td>\n",
              "      <td>0.31</td>\n",
              "      <td>0.53</td>\n",
              "      <td>0.52</td>\n",
              "      <td>negative</td>\n",
              "    </tr>\n",
              "  </tbody>\n",
              "</table>\n",
              "<p>336 rows × 8 columns</p>\n",
              "</div>\n",
              "      <button class=\"colab-df-convert\" onclick=\"convertToInteractive('df-e626d3c9-50a5-4629-8e50-2b6b02251054')\"\n",
              "              title=\"Convert this dataframe to an interactive table.\"\n",
              "              style=\"display:none;\">\n",
              "        \n",
              "  <svg xmlns=\"http://www.w3.org/2000/svg\" height=\"24px\"viewBox=\"0 0 24 24\"\n",
              "       width=\"24px\">\n",
              "    <path d=\"M0 0h24v24H0V0z\" fill=\"none\"/>\n",
              "    <path d=\"M18.56 5.44l.94 2.06.94-2.06 2.06-.94-2.06-.94-.94-2.06-.94 2.06-2.06.94zm-11 1L8.5 8.5l.94-2.06 2.06-.94-2.06-.94L8.5 2.5l-.94 2.06-2.06.94zm10 10l.94 2.06.94-2.06 2.06-.94-2.06-.94-.94-2.06-.94 2.06-2.06.94z\"/><path d=\"M17.41 7.96l-1.37-1.37c-.4-.4-.92-.59-1.43-.59-.52 0-1.04.2-1.43.59L10.3 9.45l-7.72 7.72c-.78.78-.78 2.05 0 2.83L4 21.41c.39.39.9.59 1.41.59.51 0 1.02-.2 1.41-.59l7.78-7.78 2.81-2.81c.8-.78.8-2.07 0-2.86zM5.41 20L4 18.59l7.72-7.72 1.47 1.35L5.41 20z\"/>\n",
              "  </svg>\n",
              "      </button>\n",
              "      \n",
              "  <style>\n",
              "    .colab-df-container {\n",
              "      display:flex;\n",
              "      flex-wrap:wrap;\n",
              "      gap: 12px;\n",
              "    }\n",
              "\n",
              "    .colab-df-convert {\n",
              "      background-color: #E8F0FE;\n",
              "      border: none;\n",
              "      border-radius: 50%;\n",
              "      cursor: pointer;\n",
              "      display: none;\n",
              "      fill: #1967D2;\n",
              "      height: 32px;\n",
              "      padding: 0 0 0 0;\n",
              "      width: 32px;\n",
              "    }\n",
              "\n",
              "    .colab-df-convert:hover {\n",
              "      background-color: #E2EBFA;\n",
              "      box-shadow: 0px 1px 2px rgba(60, 64, 67, 0.3), 0px 1px 3px 1px rgba(60, 64, 67, 0.15);\n",
              "      fill: #174EA6;\n",
              "    }\n",
              "\n",
              "    [theme=dark] .colab-df-convert {\n",
              "      background-color: #3B4455;\n",
              "      fill: #D2E3FC;\n",
              "    }\n",
              "\n",
              "    [theme=dark] .colab-df-convert:hover {\n",
              "      background-color: #434B5C;\n",
              "      box-shadow: 0px 1px 3px 1px rgba(0, 0, 0, 0.15);\n",
              "      filter: drop-shadow(0px 1px 2px rgba(0, 0, 0, 0.3));\n",
              "      fill: #FFFFFF;\n",
              "    }\n",
              "  </style>\n",
              "\n",
              "      <script>\n",
              "        const buttonEl =\n",
              "          document.querySelector('#df-e626d3c9-50a5-4629-8e50-2b6b02251054 button.colab-df-convert');\n",
              "        buttonEl.style.display =\n",
              "          google.colab.kernel.accessAllowed ? 'block' : 'none';\n",
              "\n",
              "        async function convertToInteractive(key) {\n",
              "          const element = document.querySelector('#df-e626d3c9-50a5-4629-8e50-2b6b02251054');\n",
              "          const dataTable =\n",
              "            await google.colab.kernel.invokeFunction('convertToInteractive',\n",
              "                                                     [key], {});\n",
              "          if (!dataTable) return;\n",
              "\n",
              "          const docLinkHtml = 'Like what you see? Visit the ' +\n",
              "            '<a target=\"_blank\" href=https://colab.research.google.com/notebooks/data_table.ipynb>data table notebook</a>'\n",
              "            + ' to learn more about interactive tables.';\n",
              "          element.innerHTML = '';\n",
              "          dataTable['output_type'] = 'display_data';\n",
              "          await google.colab.output.renderOutput(dataTable, element);\n",
              "          const docLink = document.createElement('div');\n",
              "          docLink.innerHTML = docLinkHtml;\n",
              "          element.appendChild(docLink);\n",
              "        }\n",
              "      </script>\n",
              "    </div>\n",
              "  </div>\n",
              "  "
            ]
          },
          "metadata": {},
          "execution_count": 24
        }
      ]
    },
    {
      "cell_type": "code",
      "source": [
        "y_ds = data['Class'].to_numpy()\n",
        "X_ds = data.drop('Class',1).to_numpy()\n",
        "print(np.unique(y))"
      ],
      "metadata": {
        "id": "BclPTkJOhqDb",
        "colab": {
          "base_uri": "https://localhost:8080/"
        },
        "outputId": "3f6133ca-2695-4049-cf7e-fe336383c0c2"
      },
      "execution_count": 40,
      "outputs": [
        {
          "output_type": "stream",
          "name": "stdout",
          "text": [
            "[0 1]\n"
          ]
        }
      ]
    },
    {
      "cell_type": "markdown",
      "source": [
        "Так как в целевой переменной находятся категориальные данные, их следует преобразовать в числовые."
      ],
      "metadata": {
        "id": "bOc0k9AiGNlB"
      }
    },
    {
      "cell_type": "code",
      "source": [
        "from sklearn.preprocessing import LabelEncoder\n",
        "y_ds = LabelEncoder().fit_transform(y_ds)\n",
        "print(np.unique(y_ds))\n",
        "print(data['Class'])\n",
        "print(y_ds)"
      ],
      "metadata": {
        "colab": {
          "base_uri": "https://localhost:8080/"
        },
        "id": "VYQCIy2GGNTV",
        "outputId": "ce23ee6c-c814-4eb9-a02c-6e9930120baf"
      },
      "execution_count": 42,
      "outputs": [
        {
          "output_type": "stream",
          "name": "stdout",
          "text": [
            "[0 1]\n",
            "0      negative\n",
            "1      negative\n",
            "2      negative\n",
            "3      negative\n",
            "4      negative\n",
            "         ...   \n",
            "331    negative\n",
            "332    negative\n",
            "333    negative\n",
            "334    negative\n",
            "335    negative\n",
            "Name: Class, Length: 336, dtype: object\n",
            "[0 0 0 0 0 0 0 0 0 0 0 0 0 0 0 0 0 0 0 0 0 0 0 0 0 0 0 0 0 0 0 0 0 0 0 0 0\n",
            " 0 0 0 0 0 0 0 0 0 0 0 0 0 0 0 0 0 0 0 0 0 0 0 0 0 0 0 0 0 0 0 0 0 0 0 0 0\n",
            " 0 0 0 0 0 0 0 0 0 0 0 0 0 0 0 0 0 0 0 0 0 0 0 0 0 0 0 0 0 0 0 0 0 0 0 0 0\n",
            " 0 0 0 0 0 0 0 0 0 0 0 0 0 0 0 0 0 0 0 0 0 0 0 0 0 0 0 0 0 0 0 0 1 1 1 1 1\n",
            " 1 1 1 1 1 1 1 1 1 1 1 1 1 1 1 1 1 1 1 1 1 1 1 1 1 1 1 1 1 1 1 1 1 1 1 1 1\n",
            " 1 1 1 1 1 1 1 1 1 1 1 1 1 1 1 1 1 1 1 1 1 1 1 1 1 1 1 1 1 1 1 1 1 1 1 0 0\n",
            " 0 0 0 0 0 0 0 0 0 0 0 0 0 0 0 0 0 0 0 0 0 0 0 0 0 0 0 0 0 0 0 0 0 0 0 0 0\n",
            " 0 0 0 0 0 0 0 0 0 0 0 0 0 0 0 0 0 0 0 0 0 0 0 0 0 0 0 0 0 0 0 0 0 0 0 0 0\n",
            " 0 0 0 0 0 0 0 0 0 0 0 0 0 0 0 0 0 0 0 0 0 0 0 0 0 0 0 0 0 0 0 0 0 0 0 0 0\n",
            " 0 0 0]\n"
          ]
        }
      ]
    },
    {
      "cell_type": "markdown",
      "source": [
        "Так как пустых значений нет, то далее следует проверить набор на несбалансированность. Коэффициент несбалансированности данных присутсвует, но не переходит границу в 5 единиц, что хоть как-то радует."
      ],
      "metadata": {
        "id": "f6Q2wE7uLB7X"
      }
    },
    {
      "cell_type": "code",
      "source": [
        "counts = data.Class.value_counts()\n",
        "print(counts)\n",
        "print(counts[0]/counts[1])"
      ],
      "metadata": {
        "colab": {
          "base_uri": "https://localhost:8080/"
        },
        "id": "9kcxy_sjIeKp",
        "outputId": "e04e19bc-f479-4c1b-f914-d83de0c4a3e6"
      },
      "execution_count": 39,
      "outputs": [
        {
          "output_type": "stream",
          "name": "stdout",
          "text": [
            "negative    259\n",
            "positive     77\n",
            "Name: Class, dtype: int64\n",
            "3.3636363636363638\n"
          ]
        }
      ]
    },
    {
      "cell_type": "markdown",
      "source": [
        "В качестве метода балансировки данных не следует использовать методы сокращения данных (under-sampling), так как количество экземпляров не доходит и до тысячи, что может сказаться на результатах, из-за чего будут применяться методы добавления данных (over-sampling)."
      ],
      "metadata": {
        "id": "z13heLZCI51F"
      }
    },
    {
      "cell_type": "code",
      "source": [
        "from imblearn.over_sampling import SMOTE # Методы over-sampling'а\n",
        "from imblearn.over_sampling import ADASYN\n",
        "from imblearn.over_sampling import BorderlineSMOTE\n",
        "oversamplers = [SMOTE, ADASYN, BorderlineSMOTE]\n",
        "\n",
        "from sklearn.model_selection import cross_validate, StratifiedKFold # Инструменты для кросс-валидации, нормализаици и оценки\n",
        "from sklearn.preprocessing import RobustScaler\n",
        "from sklearn.metrics import balanced_accuracy_score\n",
        "\n",
        "from sklearn.svm import SVC # Используемые классификаторы \n",
        "from sklearn.naive_bayes import GaussianNB\n",
        "# from sklearn.naive_bayes import BernoulliNB # Не будет использоваться, так как все данные имеют непрерывный характер, что вряд ли хорошо скажется на результативности метода Бернулли\n",
        "from sklearn.discriminant_analysis import LinearDiscriminantAnalysis\n",
        "from sklearn.tree import DecisionTreeClassifier\n",
        "classifiers = [SVC, GaussianNB, LinearDiscriminantAnalysis, DecisionTreeClassifier]\n",
        "\n",
        "from itertools import product # Инструмент для перемножения списков"
      ],
      "metadata": {
        "id": "sHIr_txDIFAa"
      },
      "execution_count": 62,
      "outputs": []
    },
    {
      "cell_type": "markdown",
      "source": [
        "В качестве быстрого проведения тестирования и просмотра результатов была создана общая функция, в которой будет меняться лишь модель (классификатор) и метод балансировки данных"
      ],
      "metadata": {
        "id": "gvncf5PCP7W4"
      }
    },
    {
      "cell_type": "code",
      "source": [
        "def CheckModel(model, oversampler):\n",
        "  y = y_ds.copy()\n",
        "  X = X_ds.copy()\n",
        "  kf = StratifiedKFold(5)\n",
        "  train_accuracies = []\n",
        "  test_accuracies = []\n",
        "  for train_index, test_index in kf.split(X, y):\n",
        "    X_train = X[train_index]\n",
        "    X_test = X[test_index]\n",
        "    y_train = y[train_index]\n",
        "    y_test = y[test_index]\n",
        "    X_train, y_train = oversampler.fit_resample(X_train, y_train)\n",
        "    scaler = RobustScaler()\n",
        "    X_train = scaler.fit_transform(X_train)\n",
        "    X_test = scaler.transform(X_test)\n",
        "    model.fit(X_train, y_train)\n",
        "    y_pred_train = model.predict(X_train)\n",
        "    y_pred_test = model.predict(X_test)\n",
        "    balanced_accuracy_tr = balanced_accuracy_score(y_pred_train, y_train)\n",
        "    balanced_accuracy_ts = balanced_accuracy_score(y_pred_test, y_test)\n",
        "    train_accuracies.append(balanced_accuracy_tr)\n",
        "    test_accuracies.append(balanced_accuracy_ts)\n",
        "  return np.mean(train_accuracies) * 100, np.mean(test_accuracies) * 100"
      ],
      "metadata": {
        "id": "LiEiLH9e5q_-"
      },
      "execution_count": 67,
      "outputs": []
    },
    {
      "cell_type": "code",
      "source": [
        "lastclf = None\n",
        "best_test = 0.0\n",
        "best_oversampler = None\n",
        "for clf, oversampler in product(classifiers, oversamplers):\n",
        "  if lastclf != clf:\n",
        "    lastclf = clf\n",
        "    if best_oversampler != None:\n",
        "      print(f'\\n Лучше всего метод проявился себя с {best_oversampler.__name__} - {best_test} %')\n",
        "    best_test = 0.0\n",
        "    print(f'\\n\\n\\tMethod - {clf.__name__}:')\n",
        "  print(f'- {oversampler.__name__}')\n",
        "  train_acc, test_acc = CheckModel(clf(), oversampler())\n",
        "  print(\"Обучение:\", train_acc, \"%, Тест:\", test_acc, ' %')\n",
        "  if best_test < test_acc:\n",
        "    best_test = test_acc\n",
        "    best_oversampler = oversampler\n",
        "print(f'\\n Лучше всего метод проявился себя с {best_oversampler.__name__} - {best_test} %')"
      ],
      "metadata": {
        "colab": {
          "base_uri": "https://localhost:8080/"
        },
        "id": "0SLgQ4GEKrsJ",
        "outputId": "2db2aa7b-9850-4c68-cb7f-b436771917a7"
      },
      "execution_count": 74,
      "outputs": [
        {
          "output_type": "stream",
          "name": "stdout",
          "text": [
            "\n",
            "\n",
            "\tMethod - SVC:\n",
            "- SMOTE\n",
            "Обучение: 94.08886456153411 %, Тест: 84.47842555994728  %\n",
            "- ADASYN\n",
            "Обучение: 93.30095689452413 %, Тест: 83.40235690235691  %\n",
            "- BorderlineSMOTE\n",
            "Обучение: 93.5504659761277 %, Тест: 84.22850135380735  %\n",
            "\n",
            " Лучше всего метод проявился себя с SMOTE - 84.47842555994728 %\n",
            "\n",
            "\n",
            "\tMethod - GaussianNB:\n",
            "- SMOTE\n",
            "Обучение: 88.54927429463511 %, Тест: 74.54934135534886  %\n",
            "- ADASYN\n",
            "Обучение: 86.30233458457838 %, Тест: 71.25935646351954  %\n",
            "- BorderlineSMOTE\n",
            "Обучение: 87.79065720411108 %, Тест: 75.53758469199646  %\n",
            "\n",
            " Лучше всего метод проявился себя с BorderlineSMOTE - 75.53758469199646 %\n",
            "\n",
            "\n",
            "\tMethod - LinearDiscriminantAnalysis:\n",
            "- SMOTE\n",
            "Обучение: 91.31577350904712 %, Тест: 82.37850489842428  %\n",
            "- ADASYN\n",
            "Обучение: 90.75871622283472 %, Тест: 83.36831989645287  %\n",
            "- BorderlineSMOTE\n",
            "Обучение: 92.3647728022954 %, Тест: 82.41390394203692  %\n",
            "\n",
            " Лучше всего метод проявился себя с ADASYN - 83.36831989645287 %\n",
            "\n",
            "\n",
            "\tMethod - DecisionTreeClassifier:\n",
            "- SMOTE\n",
            "Обучение: 100.0 %, Тест: 83.70438160910297  %\n",
            "- ADASYN\n",
            "Обучение: 100.0 %, Тест: 84.00286119232382  %\n",
            "- BorderlineSMOTE\n",
            "Обучение: 100.0 %, Тест: 83.29174803533112  %\n",
            "\n",
            " Лучше всего метод проявился себя с ADASYN - 84.00286119232382 %\n"
          ]
        }
      ]
    },
    {
      "cell_type": "markdown",
      "source": [
        "Без настройки параметров неплохо проявили себя метод опорных векторов и дерево принятия решений, но неизвестно, что случилось бы с результатам, если бы пришлось подбирать параметры через, например, GridSearchCV."
      ],
      "metadata": {
        "id": "TLgV2IeWTNkO"
      }
    }
  ]
}